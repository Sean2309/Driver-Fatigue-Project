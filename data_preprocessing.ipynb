{
 "cells": [
  {
   "cell_type": "markdown",
   "metadata": {},
   "source": [
    "# Getting Dataset Information\n",
    "\n",
    "\n",
    "Dataset Link : https://www.kaggle.com/datasets/ismailnasri20/driver-drowsiness-dataset-ddd/data\n"
   ]
  },
  {
   "cell_type": "code",
   "execution_count": 2,
   "metadata": {},
   "outputs": [],
   "source": [
    "import pandas as pd\n",
    "import numpy as np\n",
    "import matplotlib.pyplot as plt\n",
    "import seaborn as sns\n",
    "import cv2\n",
    "import os\n",
    "import sys\n",
    "import gc\n",
    "import time\n",
    "from tqdm import tqdm  \n",
    "import shutil\n",
    "\n",
    "import sklearn\n",
    "from sklearn.model_selection import train_test_split\n",
    "from tensorflow.keras.preprocessing.image import ImageDataGenerator\n",
    "from tensorflow.keras.models import Sequential\n",
    "from tensorflow.keras.utils import img_to_array, load_img"
   ]
  },
  {
   "cell_type": "code",
   "execution_count": 3,
   "metadata": {},
   "outputs": [],
   "source": [
    "### General Helper Functions ### \n",
    "\n",
    "# Counts the number of files within the folder\n",
    "def count_images_in_folders(base_dir: str) -> tuple[int]:\n",
    "    \"\"\"\n",
    "    Counts and prints the number of images in each class folder within the base directory.\n",
    "    \n",
    "    Parameters:\n",
    "        base_dir (str): Path to the main directory containing 'Drowsy' and 'Non Drowsy' folders.\n",
    "    \"\"\"\n",
    "    # Define paths for each class folder\n",
    "    drowsy_dir = os.path.join(base_dir, \"Drowsy\")\n",
    "    non_drowsy_dir = os.path.join(base_dir, \"Non Drowsy\")\n",
    "    \n",
    "    # Count images in each folder\n",
    "    drowsy_count = len([f for f in os.listdir(drowsy_dir) if os.path.isfile(os.path.join(drowsy_dir, f))])\n",
    "    non_drowsy_count = len([f for f in os.listdir(non_drowsy_dir) if os.path.isfile(os.path.join(non_drowsy_dir, f))])\n",
    "    \n",
    "    # Print the counts\n",
    "    print(f\"Number of preprocessed images in 'Drowsy' folder: {drowsy_count}\")\n",
    "    print(f\"Number of preprocessed images in 'Non Drowsy' folder: {non_drowsy_count}\")\n",
    "\n",
    "    return drowsy_count, non_drowsy_count\n",
    "\n",
    "# Consolidate image paths from a given directory into a list\n",
    "def consolidate_image_paths(input_path : str, subfolder_name: str = \"\") -> list[str]:\n",
    "    return [os.path.join(input_path, subfolder_name, p) for p in os.listdir(os.path.join(input_path, subfolder_name))]\n",
    "\n",
    "# Map image paths to labels to a dictionary\n",
    "def map_image_paths_to_labels(image_paths: list[str], label: int) -> dict:\n",
    "    return {p: label for p in image_paths}"
   ]
  },
  {
   "cell_type": "code",
   "execution_count": 4,
   "metadata": {},
   "outputs": [
    {
     "name": "stdout",
     "output_type": "stream",
     "text": [
      "Total Number of Images: 41793\n",
      "Total Number of Labels: 41793\n",
      "Difference between Drowsy and Non-Drowsy: 2903\n"
     ]
    },
    {
     "data": {
      "image/png": "[encoded data removed]",
      "text/plain": [
       "<Figure size 640x480 with 1 Axes>"
      ]
     },
     "metadata": {},
     "output_type": "display_data"
    }
   ],
   "source": [
    "# Base path for the dataset\n",
    "base_path_2 = \"./Datasets/Dataset_2/\"\n",
    "base_path = base_path_2\n",
    "\n",
    "### Dataset 2 Initialisation ###\n",
    "\n",
    "# Adds the relative paths of all the images in the dataset\n",
    "drowsy_paths = consolidate_image_paths(base_path, \"Drowsy\")\n",
    "non_drowsy_paths = consolidate_image_paths(base_path, \"Non Drowsy\")\n",
    "\n",
    "# Combining all the paths\n",
    "all_paths = drowsy_paths + non_drowsy_paths\n",
    "\n",
    "# Mapping the image paths to their respective labels\n",
    "drowsy_labels = map_image_paths_to_labels(drowsy_paths, 1)\n",
    "non_drowsy_labels = map_image_paths_to_labels(non_drowsy_paths, 0)\n",
    "\n",
    "# Combining all the labels\n",
    "all_labels = [drowsy_labels.get(path, non_drowsy_labels.get(path)) for path in all_paths]\n",
    "\n",
    "# Verify lengths\n",
    "print(f\"Total Number of Images: {len(all_paths)}\")\n",
    "print(f\"Total Number of Labels: {len(all_labels)}\")\n",
    "\n",
    "# Find difference between no. of drowsy and non-drowsy images\n",
    "print(f\"Difference between Drowsy and Non-Drowsy: {len(drowsy_paths) - len(non_drowsy_paths)}\")\n",
    "\n",
    "# Displaying the distribution of drowsy and non-drowsy images\n",
    "bar_distribution = sns.barplot(x = [\"Drowsy\", \"Non-Drowsy\"], y = [len(drowsy_paths), len(non_drowsy_paths)])\n",
    "plt.title(\"Distribution of Drowsy and Non-Drowsy Images\")\n",
    "plt.show()"
   ]
  },
  {
   "cell_type": "markdown",
   "metadata": {},
   "source": [
    "### Insights from Dataset 2\n",
    "\n",
    "- There are `2903` drowsy images than non-drowsy images.\n",
    "- The dataset is imbalanced.\n",
    "- To balance the dataset, we can consider several techniques:\n",
    "    - Oversampling\n",
    "    - Undersampling\n",
    "    - Data Augmentation"
   ]
  },
  {
   "cell_type": "markdown",
   "metadata": {},
   "source": [
    "# Data Preprocessing\n",
    "\n",
    "### `Steps`:\n",
    "1. Image Resizing\n",
    "2. Data Splitting\n",
    "3. Reshuffling\n",
    "4. Undersampling (Majority Class)\n",
    "5. Data Augmentation (for training data)\n",
    "6. Data Normalization\n",
    "\n",
    "### Preprocessing Steps Methodology\n",
    "1. **Image Resizing**:\n",
    "    - The images should be resized first to ensure all images are of the same dimensions.\n",
    "    - The images are resized to `224x224` pixels.\n",
    "\n",
    "2. **Data Splitting**:\n",
    "    - Dataset should be split before any form of augmentation or sampling to ensure that the model is evaluated on unseen data.\n",
    "    - Augmented data can be spilt into the testing and validation sets otherwise.\n",
    "    - The dataset is split into `70%` training, `15%` validation and `15%` testing sets.\n",
    "\n",
    "3. **Reshuffling**:\n",
    "    - The dataset is reshuffled to ensure that the data is not ordered in any way.\n",
    "    - This helps to prevent the model from learning any patterns in the data that may not be present in real-world scenarios.\n",
    "\n",
    "4. **Undersampling**:\n",
    "    - The majority class is undersampled to the number of images in the minority class.\n",
    "\n",
    "5. **Data Augmentation**:\n",
    "    - Data Augmentation is applied to the training set only to increase the variability of the training data. \n",
    "    - This helps to prevent overfitting and help to contextualise to real-world scenarios. \n",
    "    - Possible augmentations are:\n",
    "        - Rotation\n",
    "        - Horizontal Flip\n",
    "        - Vertical Flip\n",
    "        - Increasing the brightness\n",
    "\n",
    "6. **Data Normalization**:\n",
    "    - The pixel values are normalized to the range `[0, 1]` by dividing by `255`.\n",
    "    "
   ]
  },
  {
   "cell_type": "code",
   "execution_count": 5,
   "metadata": {},
   "outputs": [],
   "source": [
    "# Step 1: Image Resizing\n",
    "def resize_image(image: np.ndarray, size: tuple[int, int] = (224, 224)) -> np.ndarray:\n",
    "    return cv2.resize(image, size)\n",
    "\n",
    "# Step 2: Data Splitting (applies to paths/labels, not images)\n",
    "def split_data(X: list[str], y: list[int]) -> tuple[list[str], list[str], list[str], list[int], list[int], list[int]]:\n",
    "    X_train, X_temp, y_train, y_temp = train_test_split(X, y, test_size=0.3, random_state=42)\n",
    "    X_val, X_test, y_val, y_test = train_test_split(X_temp, y_temp, test_size=0.5, random_state=42)\n",
    "    return X_train, X_val, X_test, y_train, y_val, y_test\n",
    "\n",
    "# Step 3: Shuffle Image Paths\n",
    "def shuffle_paths(X_train: list[str], y_train: list[int]) -> tuple[list[tuple[str, int]], list[tuple[str, int]]]:\n",
    "    drowsy_train = [(path, label) for path, label in zip(X_train, y_train) if label == 1]\n",
    "    non_drowsy_train = [(path, label) for path, label in zip(X_train, y_train) if label == 0]\n",
    "    np.random.shuffle(drowsy_train)\n",
    "    np.random.shuffle(non_drowsy_train)\n",
    "    return drowsy_train, non_drowsy_train\n",
    "\n",
    "# Step 4: Undersample Majority Class\n",
    "def undersample_majority_class(drowsy_data: list[tuple], non_drowsy_data: list[tuple]) -> list[tuple]:\n",
    "    undersample_size = min(len(drowsy_data), len(non_drowsy_data))\n",
    "    non_drowsy_data = non_drowsy_data[:undersample_size] if len(non_drowsy_data) > len(drowsy_data) else non_drowsy_data\n",
    "    drowsy_data = drowsy_data[:undersample_size] if len(drowsy_data) > len(non_drowsy_data) else drowsy_data\n",
    "    balanced_train = drowsy_data + non_drowsy_data\n",
    "    np.random.shuffle(balanced_train)\n",
    "    return balanced_train\n",
    "\n",
    "# Step 5: Data Augmentation\n",
    "def augment_image(image: np.ndarray, augment_count: int = 5) -> list[np.ndarray]:\n",
    "    datagen = ImageDataGenerator(\n",
    "        rotation_range=15,\n",
    "        brightness_range=[0.8, 1.2],\n",
    "        horizontal_flip=True,\n",
    "        zoom_range=0.1,\n",
    "        fill_mode='nearest'\n",
    "    )\n",
    "    img_array = image.reshape((1,) + image.shape)\n",
    "    augmented_images = [next(datagen.flow(img_array, batch_size=1))[0].astype(np.float32) for _ in range(augment_count)]\n",
    "    return augmented_images\n",
    "\n",
    "# Step 6: Data Normalization\n",
    "def normalize_image(image: np.ndarray) -> np.ndarray:\n",
    "    return image / 255.0\n",
    "\n",
    "# Main Pipeline Function with Saving Step\n",
    "def preprocess_pipeline(image_paths: list[str], labels: list[int], augment_count: int = 5, save_dir: str = \"Preprocessed_Images\", batch_size: int = 100):\n",
    "    \"\"\"\n",
    "    Sequentially applies resizing, undersampling, augmentation, and normalization to images in batches,\n",
    "    and saves the final preprocessed images to the specified directory.\n",
    "    \n",
    "    Parameters:\n",
    "        image_paths (list): List of image paths.\n",
    "        labels (list): Corresponding list of labels for each image.\n",
    "        augment_count (int): Number of augmented images to generate per original image.\n",
    "        save_dir (str): Directory to save processed images.\n",
    "        batch_size (int): Number of images to process per batch.\n",
    "    \"\"\"\n",
    "    os.makedirs(os.path.join(save_dir, \"Drowsy\"), exist_ok=True)\n",
    "    os.makedirs(os.path.join(save_dir, \"Non Drowsy\"), exist_ok=True)\n",
    "\n",
    "    # Loop through the dataset in batches\n",
    "    for start in tqdm(range(0, len(image_paths), batch_size), desc=\"Processing Batches\"):\n",
    "        end = min(start + batch_size, len(image_paths))\n",
    "        batch_paths = image_paths[start:end]\n",
    "        batch_labels = labels[start:end]\n",
    "\n",
    "        for img_path, label in zip(batch_paths, batch_labels):\n",
    "            # Load image and convert to RGB format\n",
    "            img = cv2.imread(img_path)\n",
    "            if img is None:\n",
    "                print(f\"Skipping invalid image: {img_path}\")\n",
    "                continue\n",
    "            img_rgb = cv2.cvtColor(img, cv2.COLOR_BGR2RGB)\n",
    "            \n",
    "            # Resize the image\n",
    "            resized_image = resize_image(img_rgb)\n",
    "\n",
    "            # Apply augmentation and normalization\n",
    "            augmented_images = augment_image(resized_image, augment_count=augment_count)\n",
    "            for idx, aug_img in enumerate(augmented_images):\n",
    "                normalized_img = normalize_image(aug_img)\n",
    "                class_name = \"Drowsy\" if label == 1 else \"Non Drowsy\"\n",
    "\n",
    "                # Convert back to BGR before saving to maintain correct color in saved image\n",
    "                save_img = cv2.cvtColor((normalized_img * 255).astype(np.uint8), cv2.COLOR_RGB2BGR)\n",
    "                save_filename = f\"{class_name}_{start + idx}_{idx}.jpg\"\n",
    "                save_path = os.path.join(save_dir, class_name, save_filename)\n",
    "                cv2.imwrite(save_path, save_img)\n",
    "\n",
    "        # Clear memory after each batch\n",
    "        gc.collect()\n",
    "\n",
    "    print(\"Processing complete.\")"
   ]
  },
  {
   "cell_type": "code",
   "execution_count": 7,
   "metadata": {},
   "outputs": [],
   "source": [
    "output_folder_path = os.path.join(base_path, \"Preprocessed_Images\")"
   ]
  },
  {
   "cell_type": "code",
   "execution_count": 6,
   "metadata": {},
   "outputs": [
    {
     "name": "stderr",
     "output_type": "stream",
     "text": [
      "Processing Batches: 100%|██████████| 418/418 [33:51<00:00,  4.86s/it]"
     ]
    },
    {
     "name": "stdout",
     "output_type": "stream",
     "text": [
      "Processing complete.\n"
     ]
    },
    {
     "name": "stderr",
     "output_type": "stream",
     "text": [
      "\n"
     ]
    }
   ],
   "source": [
    "# processed_data = preprocess_pipeline(all_paths, all_labels, augment_count=5, save_dir=output_folder_path)"
   ]
  },
  {
   "cell_type": "code",
   "execution_count": 8,
   "metadata": {},
   "outputs": [
    {
     "name": "stdout",
     "output_type": "stream",
     "text": [
      "Unprocessed Total Images:\n",
      "Number of preprocessed images in 'Drowsy' folder: 22348\n",
      "Number of preprocessed images in 'Non Drowsy' folder: 19445\n",
      "\n",
      "Unprocessed Training Images:\n",
      "Number of preprocessed images in 'Drowsy' folder: 15644\n",
      "Number of preprocessed images in 'Non Drowsy' folder: 13612\n",
      "\n",
      "Processed Images Folder:\n",
      "Number of preprocessed images in 'Drowsy' folder: 86195\n",
      "Number of preprocessed images in 'Non Drowsy' folder: 975\n"
     ]
    },
    {
     "data": {
      "text/plain": [
       "(86195, 975)"
      ]
     },
     "execution_count": 8,
     "metadata": {},
     "output_type": "execute_result"
    }
   ],
   "source": [
    "# Verify total number of processed images in training data\n",
    "\n",
    "print(\"Unprocessed Total Images:\")\n",
    "unprocessed_drowsy, unprocessed_non_drowsy = count_images_in_folders(base_path)\n",
    "print(f\"\\nUnprocessed Training Images:\")\n",
    "print(f\"Number of preprocessed images in 'Drowsy' folder: {round(unprocessed_drowsy * 0.7)}\")\n",
    "print(f\"Number of preprocessed images in 'Non Drowsy' folder: {round(unprocessed_non_drowsy * 0.7)}\\n\")\n",
    "print(\"Processed Images Folder:\")\n",
    "count_images_in_folders(output_folder_path) "
   ]
  }
 ],
 "metadata": {
  "kernelspec": {
   "display_name": "cvEnv",
   "language": "python",
   "name": "python3"
  },
  "language_info": {
   "codemirror_mode": {
    "name": "ipython",
    "version": 3
   },
   "file_extension": ".py",
   "mimetype": "text/x-python",
   "name": "python",
   "nbconvert_exporter": "python",
   "pygments_lexer": "ipython3",
   "version": "3.12.4"
  }
 },
 "nbformat": 4,
 "nbformat_minor": 2
}
